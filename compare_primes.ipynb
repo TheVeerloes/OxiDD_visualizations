{
 "cells": [
  {
   "cell_type": "markdown",
   "id": "48f281b2",
   "metadata": {},
   "source": [
    "Comparison of the cube cover $\\{ab,  c\\}$"
   ]
  },
  {
   "cell_type": "code",
   "execution_count": 1,
   "id": "509bac50",
   "metadata": {},
   "outputs": [],
   "source": [
    "import oxidd"
   ]
  },
  {
   "cell_type": "code",
   "execution_count": 2,
   "id": "e48ac07e",
   "metadata": {},
   "outputs": [],
   "source": [
    "# Create BDD and ZDD manager\n",
    "mgr = oxidd.bdd.BDDManager(1024, 1024, 1)\n",
    "mgr_zdd = oxidd.zbdd.ZBDDManager(1024, 1024, 1)"
   ]
  },
  {
   "cell_type": "markdown",
   "id": "334207ce",
   "metadata": {},
   "source": [
    "BDD with meta-products"
   ]
  },
  {
   "cell_type": "code",
   "execution_count": 3,
   "id": "004d4601",
   "metadata": {},
   "outputs": [],
   "source": [
    "# Variables\n",
    "o_a = mgr.new_var()\n",
    "s_a = mgr.new_var()\n",
    "o_b = mgr.new_var()\n",
    "s_b = mgr.new_var()\n",
    "o_c = mgr.new_var()\n",
    "s_c = mgr.new_var()\n",
    "\n",
    "# Formulas\n",
    "ab = (o_a & s_a & o_b & s_b & ~o_c & s_c) | (o_a & s_a & o_b & s_b & ~o_c & ~s_c) #ab\n",
    "c = (~o_a & s_a & ~o_b & s_b & o_c & s_c) | (~o_a & ~s_a & ~o_b & s_b & o_c & s_c) | (~o_a & s_a & ~o_b & ~s_b & o_c & s_c) | (~o_a & ~s_a & ~o_b & ~s_b & o_c & s_c) #c\n",
    "\n",
    "f = ab | c\n",
    "\n",
    "# Visualize BDD\n",
    "mgr.visualize([(f, \"f\")], [(o_a, \"o_a\"), (s_a, \"s_a\"), (o_b, \"o_b\"), (s_b, \"s_b\"), (o_c, \"o_c\"), (s_c, \"s_c\")])"
   ]
  },
  {
   "cell_type": "markdown",
   "id": "2dbe1fa3",
   "metadata": {},
   "source": [
    "ZDD with meta-products"
   ]
  },
  {
   "cell_type": "code",
   "execution_count": 4,
   "id": "afcc4f43",
   "metadata": {},
   "outputs": [],
   "source": [
    "# Variables\n",
    "singletons = [mgr_zdd.new_singleton() for _ in range(6)]\n",
    "o_a = singletons[0].var_boolean_function()\n",
    "s_a = singletons[1].var_boolean_function()\n",
    "o_b = singletons[2].var_boolean_function()\n",
    "s_b = singletons[3].var_boolean_function()\n",
    "o_c = singletons[4].var_boolean_function()\n",
    "s_c = singletons[5].var_boolean_function()\n",
    "\n",
    "# Formulas\n",
    "ab = (o_a & s_a & o_b & s_b & ~o_c & s_c) | (o_a & s_a & o_b & s_b & ~o_c & ~s_c) #ab\n",
    "c = (~o_a & s_a & ~o_b & s_b & o_c & s_c) | (~o_a & ~s_a & ~o_b & s_b & o_c & s_c) | (~o_a & s_a & ~o_b & ~s_b & o_c & s_c) | (~o_a & ~s_a & ~o_b & ~s_b & o_c & s_c) #c\n",
    "\n",
    "f = ab | c\n",
    "\n",
    "mgr_zdd.visualize([(f, \"f\")], [(singletons[0], \"o_a\"), (singletons[1], \"s_a\"), (singletons[2], \"o_b\"), (singletons[3], \"s_b\"), (singletons[4], \"o_c\"), (singletons[5], \"s_c\")])"
   ]
  },
  {
   "cell_type": "markdown",
   "id": "2fe73327",
   "metadata": {},
   "source": [
    "BDD with polarity literals"
   ]
  },
  {
   "cell_type": "code",
   "execution_count": 3,
   "id": "e65c9211",
   "metadata": {},
   "outputs": [],
   "source": [
    "# Variables\n",
    "a = mgr.new_var()\n",
    "na = mgr.new_var()\n",
    "b = mgr.new_var()\n",
    "nb = mgr.new_var()\n",
    "c = mgr.new_var()\n",
    "nc = mgr.new_var()\n",
    "\n",
    "# Formulas\n",
    "fab = a & ~na & b & ~nb & ~c & ~nc #ab\n",
    "fc = ~a & ~na & ~b & ~nb & c & ~nc #c\n",
    "\n",
    "f = fab | fc\n",
    "\n",
    "mgr.visualize([(f, \"f\")], [(a, \"a\"), (na, \"~a\"), (b, \"b\"), (nb, \"~b\"), (c, \"c\"), (nc, \"~c\")])"
   ]
  },
  {
   "cell_type": "markdown",
   "id": "acaedda3",
   "metadata": {},
   "source": [
    "ZDD with polarity literals"
   ]
  },
  {
   "cell_type": "code",
   "execution_count": 4,
   "id": "2580bf7e",
   "metadata": {},
   "outputs": [],
   "source": [
    "# Variables\n",
    "singletons = [mgr_zdd.new_singleton() for _ in range(6)]\n",
    "a = singletons[0].var_boolean_function()\n",
    "na = singletons[1].var_boolean_function()\n",
    "b = singletons[2].var_boolean_function()\n",
    "nb = singletons[3].var_boolean_function()\n",
    "c = singletons[4].var_boolean_function()\n",
    "nc = singletons[5].var_boolean_function()\n",
    "\n",
    "# Formulas\n",
    "fab = a & ~na & b & ~nb & ~c & ~nc #ab\n",
    "fc = ~a & ~na & ~b & ~nb & c & ~nc #c\n",
    "\n",
    "f = fab | fc\n",
    "\n",
    "mgr_zdd.visualize([(f, \"f\")], [(singletons[0], \"a\"), (singletons[1], \"~a\"), (singletons[2], \"b\"), (singletons[3], \"~b\"), (singletons[4], \"c\"), (singletons[5], \"~c\")])"
   ]
  }
 ],
 "metadata": {
  "kernelspec": {
   "display_name": "Python 3",
   "language": "python",
   "name": "python3"
  },
  "language_info": {
   "codemirror_mode": {
    "name": "ipython",
    "version": 3
   },
   "file_extension": ".py",
   "mimetype": "text/x-python",
   "name": "python",
   "nbconvert_exporter": "python",
   "pygments_lexer": "ipython3",
   "version": "3.11.5"
  }
 },
 "nbformat": 4,
 "nbformat_minor": 5
}
