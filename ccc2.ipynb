{
 "cells": [
  {
   "cell_type": "code",
   "execution_count": 1,
   "id": "509bac50",
   "metadata": {},
   "outputs": [],
   "source": [
    "import oxidd"
   ]
  },
  {
   "cell_type": "code",
   "execution_count": 2,
   "id": "e48ac07e",
   "metadata": {},
   "outputs": [],
   "source": [
    "# Create BDD and ZDD manager\n",
    "mgr = oxidd.bdd.BDDManager(1024, 1024, 1)\n",
    "mgr_zdd = oxidd.zbdd.ZBDDManager(1024, 1024, 1)"
   ]
  },
  {
   "cell_type": "markdown",
   "id": "48f281b2",
   "metadata": {},
   "source": [
    "## Comparison of the cube cover $\\{abc, a\\overline{b}c, ab\\overline{c}, a\\overline{b}\\overline{c}, ab, a\\overline{b}, ac, a\\overline{c}, a,  \\overline{a}bc, \\overline{a}b\\overline{c}, bc, b, \\overline{a}\\overline{b}c,  \\overline{a}c, \\overline{b}c,  c\\}$"
   ]
  },
  {
   "cell_type": "markdown",
   "id": "334207ce",
   "metadata": {},
   "source": [
    "BDD with meta-products"
   ]
  },
  {
   "cell_type": "code",
   "execution_count": null,
   "id": "004d4601",
   "metadata": {},
   "outputs": [],
   "source": [
    "# Variables\n",
    "o_a = mgr.new_var()\n",
    "s_a = mgr.new_var()\n",
    "o_b = mgr.new_var()\n",
    "s_b = mgr.new_var()\n",
    "o_c = mgr.new_var()\n",
    "s_c = mgr.new_var()\n",
    "\n",
    "formulas = []\n",
    "# Formulas\n",
    "formulas.append(o_a & s_a & o_b & s_b & o_c & s_c) #abc\n",
    "formulas.append(o_a & s_a & o_b & ~s_b & o_c & s_c) #a~bc\n",
    "formulas.append(o_a & s_a & o_b & s_b & o_c & ~s_c) #ab~c\n",
    "formulas.append(o_a & s_a & o_b & ~s_b & o_c & ~s_c) #a~b~c\n",
    "formulas.append((o_a & s_a & o_b & s_b & ~o_c & s_c) | (o_a & s_a & o_b & s_b & ~o_c & ~s_c)) #ab\n",
    "formulas.append((o_a & s_a & o_b & ~s_b & ~o_c & s_c) | (o_a & s_a & o_b & ~s_b & ~o_c & ~s_c)) #a~b\n",
    "formulas.append((o_a & s_a & ~o_b & s_b & o_c & s_c) | (o_a & s_a & ~o_b & ~s_b & o_c & s_c)) #ac\n",
    "formulas.append((o_a & s_a & ~o_b & s_b & o_c & ~s_c) | (o_a & s_a & ~o_b & ~s_b & o_c & ~s_c)) #a~c\n",
    "formulas.append((o_a & s_a & ~o_b & s_b & ~o_c & s_c) | (o_a & s_a & ~o_b & ~s_b & ~o_c & s_c) | (o_a & s_a & ~o_b & s_b & ~o_c & ~s_c) | (~o_a & ~s_a & ~o_b & ~s_b & ~o_c & ~s_c)) #a\n",
    "formulas.append(o_a & ~s_a & o_b & s_b & o_c & s_c) #~abc\n",
    "formulas.append(o_a & ~s_a & o_b & s_b & o_c & ~s_c) #~ab~c\n",
    "formulas.append((~o_a & s_a & o_b & s_b & o_c & s_c) | (~o_a & ~s_a & o_b & s_b & o_c & s_c)) #bc\n",
    "formulas.append((~o_a & s_a & o_b & s_b & ~o_c & s_c) | (~o_a & ~s_a & o_b & s_b & ~o_c & s_c) | (~o_a & s_a & o_b & s_b & ~o_c & ~s_c) | (~o_a & ~s_a & o_b & s_b & ~o_c & ~s_c)) #b\n",
    "formulas.append(o_a & ~s_a & o_b & ~s_b & o_c & s_c) #~a~bc\n",
    "formulas.append((o_a & ~s_a & ~o_b & s_b & o_c & s_c) | (o_a & ~s_a & ~o_b & ~s_b & o_c & s_c)) #~ac\n",
    "formulas.append((~o_a & s_a & o_b & ~s_b & o_c & s_c) | (~o_a & ~s_a & o_b & ~s_b & o_c & s_c)) #~bc\n",
    "formulas.append((~o_a & s_a & ~o_b & s_b & o_c & s_c) | (~o_a & ~s_a & ~o_b & s_b & o_c & s_c) | (~o_a & s_a & ~o_b & ~s_b & o_c & s_c) | (~o_a & ~s_a & ~o_b & ~s_b & o_c & s_c)) #c\n",
    "\n",
    "h = mgr.false()\n",
    "for formula in formulas:\n",
    "    h = h | formula\n",
    "\n",
    "# Visualize BDD\n",
    "mgr.visualize([(h, \"h\")], [(o_a, \"o_a\"), (s_a, \"s_a\"), (o_b, \"o_b\"), (s_b, \"s_b\"), (o_c, \"o_c\"), (s_c, \"s_c\")])"
   ]
  },
  {
   "cell_type": "markdown",
   "id": "2dbe1fa3",
   "metadata": {},
   "source": [
    "ZDD with meta-products"
   ]
  },
  {
   "cell_type": "code",
   "execution_count": null,
   "id": "afcc4f43",
   "metadata": {},
   "outputs": [],
   "source": [
    "# Variables\n",
    "singletons = [mgr_zdd.new_singleton() for _ in range(6)]\n",
    "o_a = singletons[0].var_boolean_function()\n",
    "s_a = singletons[1].var_boolean_function()\n",
    "o_b = singletons[2].var_boolean_function()\n",
    "s_b = singletons[3].var_boolean_function()\n",
    "o_c = singletons[4].var_boolean_function()\n",
    "s_c = singletons[5].var_boolean_function()\n",
    "\n",
    "formulas = []\n",
    "# Formulas\n",
    "formulas.append(o_a & s_a & o_b & s_b & o_c & s_c) #abc\n",
    "formulas.append(o_a & s_a & o_b & ~s_b & o_c & s_c) #a~bc\n",
    "formulas.append(o_a & s_a & o_b & s_b & o_c & ~s_c) #ab~c\n",
    "formulas.append(o_a & s_a & o_b & ~s_b & o_c & ~s_c) #a~b~c\n",
    "formulas.append((o_a & s_a & o_b & s_b & ~o_c & s_c) | (o_a & s_a & o_b & s_b & ~o_c & ~s_c)) #ab\n",
    "formulas.append((o_a & s_a & o_b & ~s_b & ~o_c & s_c) | (o_a & s_a & o_b & ~s_b & ~o_c & ~s_c)) #a~b\n",
    "formulas.append((o_a & s_a & ~o_b & s_b & o_c & s_c) | (o_a & s_a & ~o_b & ~s_b & o_c & s_c)) #ac\n",
    "formulas.append((o_a & s_a & ~o_b & s_b & o_c & ~s_c) | (o_a & s_a & ~o_b & ~s_b & o_c & ~s_c)) #a~c\n",
    "formulas.append((o_a & s_a & ~o_b & s_b & ~o_c & s_c) | (o_a & s_a & ~o_b & ~s_b & ~o_c & s_c) | (o_a & s_a & ~o_b & s_b & ~o_c & ~s_c) | (~o_a & ~s_a & ~o_b & ~s_b & ~o_c & ~s_c)) #a\n",
    "formulas.append(o_a & ~s_a & o_b & s_b & o_c & s_c) #~abc\n",
    "formulas.append(o_a & ~s_a & o_b & s_b & o_c & ~s_c) #~ab~c\n",
    "formulas.append((~o_a & s_a & o_b & s_b & o_c & s_c) | (~o_a & ~s_a & o_b & s_b & o_c & s_c)) #bc\n",
    "formulas.append((~o_a & s_a & o_b & s_b & ~o_c & s_c) | (~o_a & ~s_a & o_b & s_b & ~o_c & s_c) | (~o_a & s_a & o_b & s_b & ~o_c & ~s_c) | (~o_a & ~s_a & o_b & s_b & ~o_c & ~s_c)) #b\n",
    "formulas.append(o_a & ~s_a & o_b & ~s_b & o_c & s_c) #~a~bc\n",
    "formulas.append((o_a & ~s_a & ~o_b & s_b & o_c & s_c) | (o_a & ~s_a & ~o_b & ~s_b & o_c & s_c)) #~ac\n",
    "formulas.append((~o_a & s_a & o_b & ~s_b & o_c & s_c) | (~o_a & ~s_a & o_b & ~s_b & o_c & s_c)) #~bc\n",
    "formulas.append((~o_a & s_a & ~o_b & s_b & o_c & s_c) | (~o_a & ~s_a & ~o_b & s_b & o_c & s_c) | (~o_a & s_a & ~o_b & ~s_b & o_c & s_c) | (~o_a & ~s_a & ~o_b & ~s_b & o_c & s_c)) #c\n",
    "\n",
    "h = mgr_zdd.false()\n",
    "for formula in formulas:\n",
    "    h = h | formula\n",
    "\n",
    "mgr_zdd.visualize([(h, \"h\")], [(singletons[0], \"o_a\"), (singletons[1], \"s_a\"), (singletons[2], \"o_b\"), (singletons[3], \"s_b\"), (singletons[4], \"o_c\"), (singletons[5], \"s_c\")])"
   ]
  },
  {
   "cell_type": "markdown",
   "id": "2fe73327",
   "metadata": {},
   "source": [
    "BDD with polarity literals"
   ]
  },
  {
   "cell_type": "code",
   "execution_count": 3,
   "id": "e65c9211",
   "metadata": {},
   "outputs": [],
   "source": [
    "# Variables\n",
    "a = mgr.new_var()\n",
    "na = mgr.new_var()\n",
    "b = mgr.new_var()\n",
    "nb = mgr.new_var()\n",
    "c = mgr.new_var()\n",
    "nc = mgr.new_var()\n",
    "\n",
    "formulas = []\n",
    "# Formulas\n",
    "formulas.append(a & ~na & b & ~nb & c & ~nc) #abc\n",
    "formulas.append(a & ~na & b & ~nb & c & ~nc) #a~bc\n",
    "formulas.append(a & ~na & ~b & nb & c & ~nc) #ab~c\n",
    "formulas.append(a & ~na & b & ~nb & c & ~nc) #a~b~c\n",
    "formulas.append(a & ~na & b & ~nb & ~c & ~nc) #ab\n",
    "formulas.append(a & ~na & ~b & nb & ~c & ~nc) #a~b\n",
    "formulas.append(a & ~na & ~b & ~nb & c & ~nc) #ac\n",
    "formulas.append(a & ~na & ~b & ~nb & ~c & nc) #a~c\n",
    "formulas.append(a & ~na & ~b & ~nb & ~c & ~nc) #a\n",
    "formulas.append(~a & na & b & ~nb & c & ~nc) #~abc\n",
    "formulas.append(~a & na & b & ~nb & ~c & nc) #~ab~c\n",
    "formulas.append(~a & ~na & b & ~nb & c & ~nc) #bc\n",
    "formulas.append(~a & ~na & b & ~nb & ~c & ~nc) #b\n",
    "formulas.append(~a & na & ~b & nb & c & ~nc) #~a~bc\n",
    "formulas.append(~a & na & ~b & ~nb & c & ~nc) #~ac\n",
    "formulas.append(~a & ~na & ~b & nb & c & ~nc) #~bc\n",
    "formulas.append(~a & ~na & ~b & ~nb & c & ~nc) #c\n",
    "\n",
    "h = mgr.false()\n",
    "for formula in formulas:\n",
    "    h = h | formula\n",
    "\n",
    "mgr.visualize([(h, \"h\")], [(a, \"a\"), (na, \"~a\"), (b, \"b\"), (nb, \"~b\"), (c, \"c\"), (nc, \"~c\")])"
   ]
  },
  {
   "cell_type": "markdown",
   "id": "acaedda3",
   "metadata": {},
   "source": [
    "ZDD with polarity literals"
   ]
  },
  {
   "cell_type": "code",
   "execution_count": null,
   "id": "2580bf7e",
   "metadata": {},
   "outputs": [],
   "source": [
    "# Variables\n",
    "singletons = [mgr_zdd.new_singleton() for _ in range(6)]\n",
    "a = singletons[0].var_boolean_function()\n",
    "na = singletons[1].var_boolean_function()\n",
    "b = singletons[2].var_boolean_function()\n",
    "nb = singletons[3].var_boolean_function()\n",
    "c = singletons[4].var_boolean_function()\n",
    "nc = singletons[5].var_boolean_function()\n",
    "\n",
    "formulas = []\n",
    "# Formulas\n",
    "formulas.append(a & ~na & b & ~nb & c & ~nc) #abc\n",
    "formulas.append(a & ~na & b & ~nb & c & ~nc) #a~bc\n",
    "formulas.append(a & ~na & ~b & nb & c & ~nc) #ab~c\n",
    "formulas.append(a & ~na & b & ~nb & c & ~nc) #a~b~c\n",
    "formulas.append(a & ~na & b & ~nb & ~c & ~nc) #ab\n",
    "formulas.append(a & ~na & ~b & nb & ~c & ~nc) #a~b\n",
    "formulas.append(a & ~na & ~b & ~nb & c & ~nc) #ac\n",
    "formulas.append(a & ~na & ~b & ~nb & ~c & nc) #a~c\n",
    "formulas.append(a & ~na & ~b & ~nb & ~c & ~nc) #a\n",
    "formulas.append(~a & na & b & ~nb & c & ~nc) #~abc\n",
    "formulas.append(~a & na & b & ~nb & ~c & nc) #~ab~c\n",
    "formulas.append(~a & ~na & b & ~nb & c & ~nc) #bc\n",
    "formulas.append(~a & ~na & b & ~nb & ~c & ~nc) #b\n",
    "formulas.append(~a & na & ~b & nb & c & ~nc) #~a~bc\n",
    "formulas.append(~a & na & ~b & ~nb & c & ~nc) #~ac\n",
    "formulas.append(~a & ~na & ~b & nb & c & ~nc) #~bc\n",
    "formulas.append(~a & ~na & ~b & ~nb & c & ~nc) #c\n",
    "\n",
    "h = mgr_zdd.false()\n",
    "for formula in formulas:\n",
    "    h = h | formula\n",
    "\n",
    "mgr_zdd.visualize([(h, \"h\")], [(singletons[0], \"a\"), (singletons[1], \"~a\"), (singletons[2], \"b\"), (singletons[3], \"~b\"), (singletons[4], \"c\"), (singletons[5], \"~c\")])"
   ]
  },
  {
   "cell_type": "markdown",
   "id": "7a7150fa",
   "metadata": {},
   "source": [
    "## Comparison of the cube cover $\\{abc, ab\\overline{c}, ab, \\overline{a}bc, bc \\}$"
   ]
  },
  {
   "cell_type": "markdown",
   "id": "5b913014",
   "metadata": {},
   "source": [
    "BDD with meta-products"
   ]
  },
  {
   "cell_type": "code",
   "execution_count": 3,
   "id": "c245ec25",
   "metadata": {},
   "outputs": [],
   "source": [
    "# Variables\n",
    "o_a = mgr.new_var()\n",
    "s_a = mgr.new_var()\n",
    "o_b = mgr.new_var()\n",
    "s_b = mgr.new_var()\n",
    "o_c = mgr.new_var()\n",
    "s_c = mgr.new_var()\n",
    "\n",
    "formulas = []\n",
    "# Formulas\n",
    "formulas.append(o_a & s_a & o_b & s_b & o_c & s_c) #abc\n",
    "formulas.append(o_a & s_a & o_b & s_b & o_c & ~s_c) #ab~c\n",
    "formulas.append((o_a & s_a & o_b & s_b & ~o_c & s_c) | (o_a & s_a & o_b & s_b & ~o_c & ~s_c)) #ab\n",
    "formulas.append(o_a & ~s_a & o_b & s_b & o_c & s_c) #~abc\n",
    "formulas.append((~o_a & s_a & o_b & s_b & o_c & s_c) | (~o_a & ~s_a & o_b & s_b & o_c & s_c)) #bc\n",
    "\n",
    "h = mgr.false()\n",
    "for formula in formulas:\n",
    "    h = h | formula\n",
    "\n",
    "# Visualize BDD\n",
    "mgr.visualize([(h, \"h\")], [(o_a, \"o_a\"), (s_a, \"s_a\"), (o_b, \"o_b\"), (s_b, \"s_b\"), (o_c, \"o_c\"), (s_c, \"s_c\")])"
   ]
  },
  {
   "cell_type": "markdown",
   "id": "934dc71b",
   "metadata": {},
   "source": [
    "ZDD with meta-products"
   ]
  },
  {
   "cell_type": "code",
   "execution_count": 4,
   "id": "cbe5ca4e",
   "metadata": {},
   "outputs": [],
   "source": [
    "# Variables\n",
    "singletons = [mgr_zdd.new_singleton() for _ in range(6)]\n",
    "o_a = singletons[0].var_boolean_function()\n",
    "s_a = singletons[1].var_boolean_function()\n",
    "o_b = singletons[2].var_boolean_function()\n",
    "s_b = singletons[3].var_boolean_function()\n",
    "o_c = singletons[4].var_boolean_function()\n",
    "s_c = singletons[5].var_boolean_function()\n",
    "\n",
    "formulas = []\n",
    "# Formulas\n",
    "formulas.append(o_a & s_a & o_b & s_b & o_c & s_c) #abc\n",
    "formulas.append(o_a & s_a & o_b & s_b & o_c & ~s_c) #ab~c\n",
    "formulas.append((o_a & s_a & o_b & s_b & ~o_c & s_c) | (o_a & s_a & o_b & s_b & ~o_c & ~s_c)) #ab\n",
    "formulas.append(o_a & ~s_a & o_b & s_b & o_c & s_c) #~abc\n",
    "formulas.append((~o_a & s_a & o_b & s_b & o_c & s_c) | (~o_a & ~s_a & o_b & s_b & o_c & s_c)) #bc\n",
    "\n",
    "h = mgr_zdd.false()\n",
    "for formula in formulas:\n",
    "    h = h | formula\n",
    "\n",
    "mgr_zdd.visualize([(h, \"h\")], [(singletons[0], \"o_a\"), (singletons[1], \"s_a\"), (singletons[2], \"o_b\"), (singletons[3], \"s_b\"), (singletons[4], \"o_c\"), (singletons[5], \"s_c\")])"
   ]
  },
  {
   "cell_type": "markdown",
   "id": "4dbf82c7",
   "metadata": {},
   "source": [
    "BDD with polarity literals"
   ]
  },
  {
   "cell_type": "code",
   "execution_count": 3,
   "id": "a59360fd",
   "metadata": {},
   "outputs": [],
   "source": [
    "# Variables\n",
    "a = mgr.new_var()\n",
    "na = mgr.new_var()\n",
    "b = mgr.new_var()\n",
    "nb = mgr.new_var()\n",
    "c = mgr.new_var()\n",
    "nc = mgr.new_var()\n",
    "\n",
    "formulas = []\n",
    "# Formulas\n",
    "formulas.append(a & ~na & b & ~nb & c & ~nc) #abc\n",
    "formulas.append(a & ~na & ~b & nb & c & ~nc) #ab~c\n",
    "formulas.append(a & ~na & b & ~nb & ~c & ~nc) #ab\n",
    "formulas.append(~a & na & b & ~nb & c & ~nc) #~abc\n",
    "formulas.append(~a & ~na & b & ~nb & c & ~nc) #bc\n",
    "\n",
    "h = mgr.false()\n",
    "for formula in formulas:\n",
    "    h = h | formula\n",
    "\n",
    "# Visualize BDD\n",
    "mgr.visualize([(h, \"h\")], [(a, \"a\"), (na, \"~a\"), (b, \"b\"), (nb, \"~b\"), (c, \"c\"), (nc, \"~c\")])"
   ]
  },
  {
   "cell_type": "markdown",
   "id": "422e13f7",
   "metadata": {},
   "source": [
    "ZDD with polarity literals"
   ]
  },
  {
   "cell_type": "code",
   "execution_count": 4,
   "id": "fbc59e57",
   "metadata": {},
   "outputs": [],
   "source": [
    "# Variables\n",
    "singletons = [mgr_zdd.new_singleton() for _ in range(6)]\n",
    "a = singletons[0].var_boolean_function()\n",
    "na = singletons[1].var_boolean_function()\n",
    "b = singletons[2].var_boolean_function()\n",
    "nb = singletons[3].var_boolean_function()\n",
    "c = singletons[4].var_boolean_function()\n",
    "nc = singletons[5].var_boolean_function()\n",
    "\n",
    "formulas = []\n",
    "# Formulas\n",
    "formulas.append(a & ~na & b & ~nb & c & ~nc) #abc\n",
    "formulas.append(a & ~na & ~b & nb & c & ~nc) #ab~c\n",
    "formulas.append(a & ~na & b & ~nb & ~c & ~nc) #ab\n",
    "formulas.append(~a & na & b & ~nb & c & ~nc) #~abc\n",
    "formulas.append(~a & ~na & b & ~nb & c & ~nc) #bc\n",
    "\n",
    "h = mgr_zdd.false()\n",
    "for formula in formulas:\n",
    "    h = h | formula\n",
    "\n",
    "mgr_zdd.visualize([(h, \"h\")], [(singletons[0], \"a\"), (singletons[1], \"~a\"), (singletons[2], \"b\"), (singletons[3], \"~b\"), (singletons[4], \"c\"), (singletons[5], \"~c\")])"
   ]
  },
  {
   "cell_type": "markdown",
   "id": "cfd41753",
   "metadata": {},
   "source": [
    "## Comparison of the cube cover $\\{ \\overline{a}b, \\overline{a}bc, \\overline{a}b\\overline{c}, \\overline{a}\\overline{b}c, a\\overline{c}, ab\\overline{c}, a\\overline{b}\\overline{c} \\}$"
   ]
  },
  {
   "cell_type": "markdown",
   "id": "2efcd022",
   "metadata": {},
   "source": [
    "BDD with meta-products"
   ]
  },
  {
   "cell_type": "code",
   "execution_count": 3,
   "id": "b5a1bd30",
   "metadata": {},
   "outputs": [],
   "source": [
    "# Variables\n",
    "o_a = mgr.new_var()\n",
    "s_a = mgr.new_var()\n",
    "o_b = mgr.new_var()\n",
    "s_b = mgr.new_var()\n",
    "o_c = mgr.new_var()\n",
    "s_c = mgr.new_var()\n",
    "\n",
    "formulas = []\n",
    "# Formulas\n",
    "formulas.append((o_a & ~s_a & o_b & s_b & ~o_c & s_c) | (o_a & ~s_a & o_b & s_b & ~o_c & ~s_c)) #~ab\n",
    "formulas.append(o_a & ~s_a & o_b & s_b & o_c & s_c) #~abc\n",
    "formulas.append(o_a & ~s_a & o_b & s_b & o_c & ~s_c) #~ab~c\n",
    "formulas.append(o_a & ~s_a & o_b & ~s_b & o_c & s_c) #~a~bc\n",
    "formulas.append((o_a & s_a & ~o_b & s_b & o_c & ~s_c) | (o_a & s_a & ~o_b & ~s_b & o_c & ~s_c)) #a~c\n",
    "formulas.append(o_a & s_a & o_b & s_b & o_c & ~s_c) #ab~c\n",
    "formulas.append(o_a & s_a & o_b & ~s_b & o_c & ~s_c) #a~b~c\n",
    "\n",
    "h = mgr.false()\n",
    "for formula in formulas:\n",
    "    h = h | formula\n",
    "\n",
    "# Visualize BDD\n",
    "mgr.visualize([(h, \"h\")], [(o_a, \"o_a\"), (s_a, \"s_a\"), (o_b, \"o_b\"), (s_b, \"s_b\"), (o_c, \"o_c\"), (s_c, \"s_c\")])"
   ]
  },
  {
   "cell_type": "markdown",
   "id": "b9e9cde5",
   "metadata": {},
   "source": [
    "ZDD with meta-products"
   ]
  },
  {
   "cell_type": "code",
   "execution_count": 4,
   "id": "73e6d107",
   "metadata": {},
   "outputs": [],
   "source": [
    "# Variables\n",
    "singletons = [mgr_zdd.new_singleton() for _ in range(6)]\n",
    "o_a = singletons[0].var_boolean_function()\n",
    "s_a = singletons[1].var_boolean_function()\n",
    "o_b = singletons[2].var_boolean_function()\n",
    "s_b = singletons[3].var_boolean_function()\n",
    "o_c = singletons[4].var_boolean_function()\n",
    "s_c = singletons[5].var_boolean_function()\n",
    "\n",
    "formulas = []\n",
    "# Formulas\n",
    "formulas.append((o_a & ~s_a & o_b & s_b & ~o_c & s_c) | (o_a & ~s_a & o_b & s_b & ~o_c & ~s_c)) #~ab\n",
    "formulas.append(o_a & ~s_a & o_b & s_b & o_c & s_c) #~abc\n",
    "formulas.append(o_a & ~s_a & o_b & s_b & o_c & ~s_c) #~ab~c\n",
    "formulas.append(o_a & ~s_a & o_b & ~s_b & o_c & s_c) #~a~bc\n",
    "formulas.append((o_a & s_a & ~o_b & s_b & o_c & ~s_c) | (o_a & s_a & ~o_b & ~s_b & o_c & ~s_c)) #a~c\n",
    "formulas.append(o_a & s_a & o_b & s_b & o_c & ~s_c) #ab~c\n",
    "formulas.append(o_a & s_a & o_b & ~s_b & o_c & ~s_c) #a~b~c\n",
    "\n",
    "h = mgr_zdd.false()\n",
    "for formula in formulas:\n",
    "    h = h | formula\n",
    "\n",
    "mgr_zdd.visualize([(h, \"h\")], [(singletons[0], \"o_a\"), (singletons[1], \"s_a\"), (singletons[2], \"o_b\"), (singletons[3], \"s_b\"), (singletons[4], \"o_c\"), (singletons[5], \"s_c\")])"
   ]
  },
  {
   "cell_type": "markdown",
   "id": "82cab6f7",
   "metadata": {},
   "source": [
    "BDD with polarity literals"
   ]
  },
  {
   "cell_type": "code",
   "execution_count": 3,
   "id": "ddd2d261",
   "metadata": {},
   "outputs": [],
   "source": [
    "# Variables\n",
    "a = mgr.new_var()\n",
    "na = mgr.new_var()\n",
    "b = mgr.new_var()\n",
    "nb = mgr.new_var()\n",
    "c = mgr.new_var()\n",
    "nc = mgr.new_var()\n",
    "\n",
    "formulas = []\n",
    "# Formulas\n",
    "formulas.append(~a & na & b & ~nb & ~c & ~nc) #~ab\n",
    "formulas.append(~a & na & b & ~nb & c & ~nc) #~abc\n",
    "formulas.append(~a & na & b & ~nb & ~c & nc) #~ab~c\n",
    "formulas.append(~a & na & ~b & nb & c & ~nc) #~a~bc\n",
    "formulas.append(a & ~na & ~b & ~nb & ~c & nc) #a~c\n",
    "formulas.append(a & ~na & ~b & nb & c & ~nc) #ab~c\n",
    "formulas.append(a & ~na & b & ~nb & c & ~nc) #a~b~c\n",
    "\n",
    "h = mgr.false()\n",
    "for formula in formulas:\n",
    "    h = h | formula\n",
    "\n",
    "# Visualize BDD\n",
    "mgr.visualize([(h, \"h\")], [(a, \"a\"), (na, \"~a\"), (b, \"b\"), (nb, \"~b\"), (c, \"c\"), (nc, \"~c\")])"
   ]
  },
  {
   "cell_type": "markdown",
   "id": "4ec229e8",
   "metadata": {},
   "source": [
    "ZDD with polarity literals"
   ]
  },
  {
   "cell_type": "code",
   "execution_count": 4,
   "id": "e8c5a154",
   "metadata": {},
   "outputs": [],
   "source": [
    "# Variables\n",
    "singletons = [mgr_zdd.new_singleton() for _ in range(6)]\n",
    "a = singletons[0].var_boolean_function()\n",
    "na = singletons[1].var_boolean_function()\n",
    "b = singletons[2].var_boolean_function()\n",
    "nb = singletons[3].var_boolean_function()\n",
    "c = singletons[4].var_boolean_function()\n",
    "nc = singletons[5].var_boolean_function()\n",
    "\n",
    "formulas = []\n",
    "# Formulas\n",
    "formulas.append(~a & na & b & ~nb & ~c & ~nc) #~ab\n",
    "formulas.append(~a & na & b & ~nb & c & ~nc) #~abc\n",
    "formulas.append(~a & na & b & ~nb & ~c & nc) #~ab~c\n",
    "formulas.append(~a & na & ~b & nb & c & ~nc) #~a~bc\n",
    "formulas.append(a & ~na & ~b & ~nb & ~c & nc) #a~c\n",
    "formulas.append(a & ~na & ~b & nb & c & ~nc) #ab~c\n",
    "formulas.append(a & ~na & b & ~nb & c & ~nc) #a~b~c\n",
    "\n",
    "h = mgr_zdd.false()\n",
    "for formula in formulas:\n",
    "    h = h | formula\n",
    "\n",
    "mgr_zdd.visualize([(h, \"h\")], [(singletons[0], \"a\"), (singletons[1], \"~a\"), (singletons[2], \"b\"), (singletons[3], \"~b\"), (singletons[4], \"c\"), (singletons[5], \"~c\")])"
   ]
  }
 ],
 "metadata": {
  "kernelspec": {
   "display_name": "Python 3",
   "language": "python",
   "name": "python3"
  },
  "language_info": {
   "codemirror_mode": {
    "name": "ipython",
    "version": 3
   },
   "file_extension": ".py",
   "mimetype": "text/x-python",
   "name": "python",
   "nbconvert_exporter": "python",
   "pygments_lexer": "ipython3",
   "version": "3.11.5"
  }
 },
 "nbformat": 4,
 "nbformat_minor": 5
}
