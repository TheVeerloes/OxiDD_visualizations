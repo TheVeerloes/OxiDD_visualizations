{
 "cells": [
  {
   "cell_type": "code",
   "execution_count": 1,
   "id": "eb04d5ca",
   "metadata": {},
   "outputs": [],
   "source": [
    "import oxidd"
   ]
  },
  {
   "cell_type": "code",
   "execution_count": 2,
   "id": "5e97efb7",
   "metadata": {},
   "outputs": [],
   "source": [
    "# Create BDD and ZDD manager\n",
    "mgr = oxidd.bdd.BDDManager(1024, 1024, 1)\n",
    "mgr_zdd = oxidd.zbdd.ZBDDManager(1024, 1024, 1)"
   ]
  },
  {
   "cell_type": "markdown",
   "id": "a9c23f60",
   "metadata": {},
   "source": [
    "BDD of $o_a s_a o_b s_b \\overline{o_c} s_c$ + $o_a s_a o_b s_b \\overline{o_c} \\overline{s_c}$"
   ]
  },
  {
   "cell_type": "code",
   "execution_count": null,
   "id": "cb1dcb8f",
   "metadata": {},
   "outputs": [],
   "source": [
    "# Variables\n",
    "o_a = mgr.new_var()\n",
    "s_a = mgr.new_var()\n",
    "o_b = mgr.new_var()\n",
    "s_b = mgr.new_var()\n",
    "o_c = mgr.new_var()\n",
    "s_c = mgr.new_var()\n",
    "\n",
    "# Formula\n",
    "f = o_a & s_a & o_b & s_b & ~o_c & s_c\n",
    "g = o_a & s_a & o_b & s_b & ~o_c & ~s_c\n",
    "h = f | g \n",
    "\n",
    "# Visualize BDD\n",
    "mgr.visualize([(h, \"h\")], [(o_a, \"o_a\"), (s_a, \"s_a\"), (o_b, \"o_b\"), (s_b, \"s_b\"), (o_c, \"o_c\"), (s_c, \"s_c\")])"
   ]
  },
  {
   "cell_type": "markdown",
   "id": "82fa5917",
   "metadata": {},
   "source": [
    "ZDD of $o_a s_a o_b s_b \\overline{o_c} s_c$ + $o_a s_a o_b s_b \\overline{o_c} \\overline{s_c}$"
   ]
  },
  {
   "cell_type": "code",
   "execution_count": null,
   "id": "3ed57d44",
   "metadata": {},
   "outputs": [
    {
     "ename": "",
     "evalue": "",
     "output_type": "error",
     "traceback": [
      "\u001b[1;31mThe Kernel crashed while executing code in the current cell or a previous cell. \n",
      "\u001b[1;31mPlease review the code in the cell(s) to identify a possible cause of the failure. \n",
      "\u001b[1;31mClick <a href='https://aka.ms/vscodeJupyterKernelCrash'>here</a> for more info. \n",
      "\u001b[1;31mView Jupyter <a href='command:jupyter.viewOutput'>log</a> for further details."
     ]
    }
   ],
   "source": [
    "# Variables\n",
    "singletons = [mgr_zdd.new_singleton() for _ in range(6)]\n",
    "o_a = singletons[0].var_boolean_function()\n",
    "s_a = singletons[1].var_boolean_function()\n",
    "o_b = singletons[2].var_boolean_function()\n",
    "s_b = singletons[3].var_boolean_function()\n",
    "o_c = singletons[4].var_boolean_function()\n",
    "s_c = singletons[5].var_boolean_function()\n",
    "\n",
    "# Formula\n",
    "f = o_a & s_a & o_b & s_b & ~o_c & s_c\n",
    "g = o_a & s_a & o_b & s_b & ~o_c & ~s_c\n",
    "h = f | g\n",
    "\n",
    "mgr_zdd.visualize([(h, \"h\")], [(singletons[0], \"o_a\"), (singletons[1], \"s_a\"), (singletons[2], \"o_b\"), (singletons[3], \"s_b\"), (singletons[4], \"o_c\"), (singletons[5], \"s_c\")])"
   ]
  },
  {
   "cell_type": "markdown",
   "id": "33b9a27b",
   "metadata": {},
   "source": [
    "BDD of $o_a \\overline{s_a} o_b \\overline{s_b} o_c s_c$"
   ]
  },
  {
   "cell_type": "code",
   "execution_count": 3,
   "id": "32a45251",
   "metadata": {},
   "outputs": [],
   "source": [
    "# Variables\n",
    "o_a = mgr.new_var()\n",
    "s_a = mgr.new_var()\n",
    "o_b = mgr.new_var()\n",
    "s_b = mgr.new_var()\n",
    "o_c = mgr.new_var()\n",
    "s_c = mgr.new_var()\n",
    "\n",
    "# Formula\n",
    "f = o_a & ~s_a & o_b & ~s_b &  o_c & s_c\n",
    "\n",
    "# Visualize it\n",
    "mgr.visualize([(f, \"f\")], [(o_a, \"o_a\"), (s_a, \"s_a\"), (o_b, \"o_b\"), (s_b, \"s_b\"), (o_c, \"o_c\"), (s_c, \"s_c\")])"
   ]
  },
  {
   "cell_type": "markdown",
   "id": "db6418b5",
   "metadata": {},
   "source": [
    "ZDD of $o_a \\overline{s_a} o_b \\overline{s_b} o_c s_c$"
   ]
  },
  {
   "cell_type": "code",
   "execution_count": 4,
   "id": "07ffcf9c",
   "metadata": {},
   "outputs": [],
   "source": [
    "# Variables\n",
    "singletons = [mgr_zdd.new_singleton() for _ in range(6)]\n",
    "o_a = singletons[0].var_boolean_function()\n",
    "s_a = singletons[1].var_boolean_function()\n",
    "o_b = singletons[2].var_boolean_function()\n",
    "s_b = singletons[3].var_boolean_function()\n",
    "o_c = singletons[4].var_boolean_function()\n",
    "s_c = singletons[5].var_boolean_function()\n",
    "\n",
    "# Formula\n",
    "f = o_a & ~s_a & o_b & ~s_b &  o_c & s_c\n",
    "\n",
    "# Visualize it\n",
    "mgr_zdd.visualize([(f, \"f\")], [(singletons[0], \"o_a\"), (singletons[1], \"s_a\"), (singletons[2], \"o_b\"), (singletons[3], \"s_b\"), (singletons[4], \"o_c\"), (singletons[5], \"s_c\")])"
   ]
  }
 ],
 "metadata": {
  "kernelspec": {
   "display_name": "Python 3",
   "language": "python",
   "name": "python3"
  },
  "language_info": {
   "codemirror_mode": {
    "name": "ipython",
    "version": 3
   },
   "file_extension": ".py",
   "mimetype": "text/x-python",
   "name": "python",
   "nbconvert_exporter": "python",
   "pygments_lexer": "ipython3",
   "version": "3.11.5"
  }
 },
 "nbformat": 4,
 "nbformat_minor": 5
}
