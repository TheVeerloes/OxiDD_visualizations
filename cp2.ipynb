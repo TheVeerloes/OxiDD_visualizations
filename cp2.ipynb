{
 "cells": [
  {
   "cell_type": "code",
   "execution_count": 1,
   "id": "509bac50",
   "metadata": {},
   "outputs": [],
   "source": [
    "import oxidd"
   ]
  },
  {
   "cell_type": "code",
   "execution_count": 2,
   "id": "e48ac07e",
   "metadata": {},
   "outputs": [],
   "source": [
    "# Create BDD and ZDD manager\n",
    "mgr = oxidd.bdd.BDDManager(1024, 1024, 1)\n",
    "mgr_zdd = oxidd.zbdd.ZBDDManager(1024, 1024, 1)"
   ]
  },
  {
   "cell_type": "markdown",
   "id": "48f281b2",
   "metadata": {},
   "source": [
    "## Comparison of the primes $\\{a, b,  c\\}$"
   ]
  },
  {
   "cell_type": "markdown",
   "id": "334207ce",
   "metadata": {},
   "source": [
    "BDD with meta-products"
   ]
  },
  {
   "cell_type": "code",
   "execution_count": 3,
   "id": "004d4601",
   "metadata": {},
   "outputs": [],
   "source": [
    "# Variables\n",
    "o_a = mgr.new_var()\n",
    "s_a = mgr.new_var()\n",
    "o_b = mgr.new_var()\n",
    "s_b = mgr.new_var()\n",
    "o_c = mgr.new_var()\n",
    "s_c = mgr.new_var()\n",
    "\n",
    "# Formulas\n",
    "a = (o_a & s_a & ~o_b & s_b & ~o_c & s_c) | (o_a & s_a & ~o_b & s_b & ~o_c & ~s_c) | (o_a & s_a & ~o_b & ~s_b & ~o_c & s_c) | (o_a & s_a & ~o_b & ~s_b & ~o_c & ~s_c) #a\n",
    "b = (~o_a & s_a & o_b & s_b & ~o_c & s_c) | (~o_a & ~s_a & o_b & s_b & ~o_c & s_c) | (~o_a & s_a & o_b & s_b & ~o_c & ~s_c) | (~o_a & ~s_a & o_b & s_b & ~o_c & ~s_c) #b\n",
    "c = (~o_a & s_a & ~o_b & s_b & o_c & s_c) | (~o_a & ~s_a & ~o_b & s_b & o_c & s_c) | (~o_a & s_a & ~o_b & ~s_b & o_c & s_c) | (~o_a & ~s_a & ~o_b & ~s_b & o_c & s_c) #c\n",
    "\n",
    "f = a | b | c\n",
    "\n",
    "# Visualize BDD\n",
    "mgr.visualize([(f, \"f\")], [(o_a, \"o_a\"), (s_a, \"s_a\"), (o_b, \"o_b\"), (s_b, \"s_b\"), (o_c, \"o_c\"), (s_c, \"s_c\")])"
   ]
  },
  {
   "cell_type": "markdown",
   "id": "2dbe1fa3",
   "metadata": {},
   "source": [
    "ZDD with meta-products"
   ]
  },
  {
   "cell_type": "code",
   "execution_count": 4,
   "id": "afcc4f43",
   "metadata": {},
   "outputs": [],
   "source": [
    "# Variables\n",
    "singletons = [mgr_zdd.new_singleton() for _ in range(6)]\n",
    "o_a = singletons[0].var_boolean_function()\n",
    "s_a = singletons[1].var_boolean_function()\n",
    "o_b = singletons[2].var_boolean_function()\n",
    "s_b = singletons[3].var_boolean_function()\n",
    "o_c = singletons[4].var_boolean_function()\n",
    "s_c = singletons[5].var_boolean_function()\n",
    "\n",
    "# Formulas\n",
    "a = (o_a & s_a & ~o_b & s_b & ~o_c & s_c) | (o_a & s_a & ~o_b & s_b & ~o_c & ~s_c) | (o_a & s_a & ~o_b & ~s_b & ~o_c & s_c) | (o_a & s_a & ~o_b & ~s_b & ~o_c & ~s_c) #a\n",
    "b = (~o_a & s_a & o_b & s_b & ~o_c & s_c) | (~o_a & ~s_a & o_b & s_b & ~o_c & s_c) | (~o_a & s_a & o_b & s_b & ~o_c & ~s_c) | (~o_a & ~s_a & o_b & s_b & ~o_c & ~s_c) #b\n",
    "c = (~o_a & s_a & ~o_b & s_b & o_c & s_c) | (~o_a & ~s_a & ~o_b & s_b & o_c & s_c) | (~o_a & s_a & ~o_b & ~s_b & o_c & s_c) | (~o_a & ~s_a & ~o_b & ~s_b & o_c & s_c) #c\n",
    "\n",
    "f = a | b | c\n",
    "\n",
    "mgr_zdd.visualize([(f, \"f\")], [(singletons[0], \"o_a\"), (singletons[1], \"s_a\"), (singletons[2], \"o_b\"), (singletons[3], \"s_b\"), (singletons[4], \"o_c\"), (singletons[5], \"s_c\")])"
   ]
  },
  {
   "cell_type": "markdown",
   "id": "2fe73327",
   "metadata": {},
   "source": [
    "BDD with polarity literals"
   ]
  },
  {
   "cell_type": "code",
   "execution_count": 3,
   "id": "e65c9211",
   "metadata": {},
   "outputs": [],
   "source": [
    "# Variables\n",
    "a = mgr.new_var()\n",
    "na = mgr.new_var()\n",
    "b = mgr.new_var()\n",
    "nb = mgr.new_var()\n",
    "c = mgr.new_var()\n",
    "nc = mgr.new_var()\n",
    "\n",
    "# Formulas\n",
    "fa = a & ~na & ~b & ~nb & ~c & ~nc #a\n",
    "fb = ~a & ~na & b & ~nb & ~c & ~nc #b\n",
    "fc = ~a & ~na & ~b & ~nb & c & ~nc #c\n",
    "\n",
    "f = fa | fb | fc\n",
    "\n",
    "mgr.visualize([(f, \"f\")], [(a, \"a\"), (na, \"~a\"), (b, \"b\"), (nb, \"~b\"), (c, \"c\"), (nc, \"~c\")])"
   ]
  },
  {
   "cell_type": "markdown",
   "id": "acaedda3",
   "metadata": {},
   "source": [
    "ZDD with polarity literals"
   ]
  },
  {
   "cell_type": "code",
   "execution_count": 4,
   "id": "2580bf7e",
   "metadata": {},
   "outputs": [],
   "source": [
    "# Variables\n",
    "singletons = [mgr_zdd.new_singleton() for _ in range(6)]\n",
    "a = singletons[0].var_boolean_function()\n",
    "na = singletons[1].var_boolean_function()\n",
    "b = singletons[2].var_boolean_function()\n",
    "nb = singletons[3].var_boolean_function()\n",
    "c = singletons[4].var_boolean_function()\n",
    "nc = singletons[5].var_boolean_function()\n",
    "\n",
    "# Formulas\n",
    "fa = a & ~na & ~b & ~nb & ~c & ~nc #a\n",
    "fb = ~a & ~na & b & ~nb & ~c & ~nc #b\n",
    "fc = ~a & ~na & ~b & ~nb & c & ~nc #c\n",
    "\n",
    "f = fa | fb | fc\n",
    "\n",
    "mgr_zdd.visualize([(f, \"f\")], [(singletons[0], \"a\"), (singletons[1], \"~a\"), (singletons[2], \"b\"), (singletons[3], \"~b\"), (singletons[4], \"c\"), (singletons[5], \"~c\")])"
   ]
  },
  {
   "cell_type": "markdown",
   "id": "47a50ca0",
   "metadata": {},
   "source": [
    "## Comparison of the primes $\\{ab, bc\\}$"
   ]
  },
  {
   "cell_type": "markdown",
   "id": "a7ffd1a4",
   "metadata": {},
   "source": [
    "BDD with meta-products"
   ]
  },
  {
   "cell_type": "code",
   "execution_count": 3,
   "id": "c2d4a761",
   "metadata": {},
   "outputs": [],
   "source": [
    "# Variables\n",
    "o_a = mgr.new_var()\n",
    "s_a = mgr.new_var()\n",
    "o_b = mgr.new_var()\n",
    "s_b = mgr.new_var()\n",
    "o_c = mgr.new_var()\n",
    "s_c = mgr.new_var()\n",
    "\n",
    "# Formulas\n",
    "ab = (o_a & s_a & o_b & s_b & ~o_c & s_c) | (o_a & s_a & o_b & s_b & ~o_c & ~s_c) #ab\n",
    "bc = (~o_a & s_a & o_b & s_b & o_c & s_c) | (~o_a & ~s_a & o_b & s_b & o_c & s_c) #bc\n",
    "\n",
    "f = ab | bc\n",
    "\n",
    "# Visualize BDD\n",
    "mgr.visualize([(f, \"f\")], [(o_a, \"o_a\"), (s_a, \"s_a\"), (o_b, \"o_b\"), (s_b, \"s_b\"), (o_c, \"o_c\"), (s_c, \"s_c\")])"
   ]
  },
  {
   "cell_type": "markdown",
   "id": "d5cfee10",
   "metadata": {},
   "source": [
    "ZDD with meta-products"
   ]
  },
  {
   "cell_type": "code",
   "execution_count": 4,
   "id": "219d279b",
   "metadata": {},
   "outputs": [],
   "source": [
    "# Variables\n",
    "singletons = [mgr_zdd.new_singleton() for _ in range(6)]\n",
    "o_a = singletons[0].var_boolean_function()\n",
    "s_a = singletons[1].var_boolean_function()\n",
    "o_b = singletons[2].var_boolean_function()\n",
    "s_b = singletons[3].var_boolean_function()\n",
    "o_c = singletons[4].var_boolean_function()\n",
    "s_c = singletons[5].var_boolean_function()\n",
    "\n",
    "# Formulas\n",
    "ab = (o_a & s_a & o_b & s_b & ~o_c & s_c) | (o_a & s_a & o_b & s_b & ~o_c & ~s_c) #ab\n",
    "bc = (~o_a & s_a & o_b & s_b & o_c & s_c) | (~o_a & ~s_a & o_b & s_b & o_c & s_c) #bc\n",
    "\n",
    "f = ab | bc\n",
    "\n",
    "mgr_zdd.visualize([(f, \"f\")], [(singletons[0], \"o_a\"), (singletons[1], \"s_a\"), (singletons[2], \"o_b\"), (singletons[3], \"s_b\"), (singletons[4], \"o_c\"), (singletons[5], \"s_c\")])"
   ]
  },
  {
   "cell_type": "markdown",
   "id": "e74cec46",
   "metadata": {},
   "source": [
    "BDD with polarity literals"
   ]
  },
  {
   "cell_type": "code",
   "execution_count": 3,
   "id": "c1c2baed",
   "metadata": {},
   "outputs": [],
   "source": [
    "# Variables\n",
    "a = mgr.new_var()\n",
    "na = mgr.new_var()\n",
    "b = mgr.new_var()\n",
    "nb = mgr.new_var()\n",
    "c = mgr.new_var()\n",
    "nc = mgr.new_var()\n",
    "\n",
    "# Formulas\n",
    "fab = a & ~na & b & ~nb & ~c & ~nc #ab\n",
    "fbc = ~a & ~na & b & ~nb & c & ~nc #bc\n",
    "\n",
    "f = fab | fbc\n",
    "\n",
    "mgr.visualize([(f, \"f\")], [(a, \"a\"), (na, \"~a\"), (b, \"b\"), (nb, \"~b\"), (c, \"c\"), (nc, \"~c\")])"
   ]
  },
  {
   "cell_type": "markdown",
   "id": "9d22d1e2",
   "metadata": {},
   "source": [
    "ZDD with polarity literals"
   ]
  },
  {
   "cell_type": "code",
   "execution_count": 4,
   "id": "aef49a62",
   "metadata": {},
   "outputs": [],
   "source": [
    "# Variables\n",
    "singletons = [mgr_zdd.new_singleton() for _ in range(6)]\n",
    "a = singletons[0].var_boolean_function()\n",
    "na = singletons[1].var_boolean_function()\n",
    "b = singletons[2].var_boolean_function()\n",
    "nb = singletons[3].var_boolean_function()\n",
    "c = singletons[4].var_boolean_function()\n",
    "nc = singletons[5].var_boolean_function()\n",
    "\n",
    "# Formulas\n",
    "fab = a & ~na & b & ~nb & ~c & ~nc #ab\n",
    "fbc = ~a & ~na & b & ~nb & c & ~nc #bc\n",
    "\n",
    "f = fab | fbc\n",
    "\n",
    "mgr_zdd.visualize([(f, \"f\")], [(singletons[0], \"a\"), (singletons[1], \"~a\"), (singletons[2], \"b\"), (singletons[3], \"~b\"), (singletons[4], \"c\"), (singletons[5], \"~c\")])"
   ]
  },
  {
   "cell_type": "markdown",
   "id": "3891feba",
   "metadata": {},
   "source": [
    "## Comparison of the primes $\\{\\overline{a}b, \\overline{a}\\overline{b}c, a\\overline{c}\\}$"
   ]
  },
  {
   "cell_type": "markdown",
   "id": "0cb0af2a",
   "metadata": {},
   "source": [
    "BDD with meta-products"
   ]
  },
  {
   "cell_type": "code",
   "execution_count": 3,
   "id": "97546cc5",
   "metadata": {},
   "outputs": [],
   "source": [
    "# Variables\n",
    "o_a = mgr.new_var()\n",
    "s_a = mgr.new_var()\n",
    "o_b = mgr.new_var()\n",
    "s_b = mgr.new_var()\n",
    "o_c = mgr.new_var()\n",
    "s_c = mgr.new_var()\n",
    "\n",
    "# Formulas\n",
    "f1 = (o_a & ~s_a & o_b & s_b & ~o_c & s_c) | (o_a & ~s_a & o_b & s_b & ~o_c & ~s_c) #~ab\n",
    "f2 = o_a & ~s_a & o_b & ~s_b & o_c & s_c #~a~bc\n",
    "f3 = (o_a & s_a & ~o_b & s_b & o_c & ~s_c) | (o_a & s_a & ~o_b & ~s_b & o_c & ~s_c) #a~c\n",
    "\n",
    "f = f1 | f2 | f3\n",
    "\n",
    "# Visualize BDD\n",
    "mgr.visualize([(f, \"f\")], [(o_a, \"o_a\"), (s_a, \"s_a\"), (o_b, \"o_b\"), (s_b, \"s_b\"), (o_c, \"o_c\"), (s_c, \"s_c\")])"
   ]
  },
  {
   "cell_type": "markdown",
   "id": "6b2334cc",
   "metadata": {},
   "source": [
    "ZDD with meta-products"
   ]
  },
  {
   "cell_type": "code",
   "execution_count": 4,
   "id": "1531a6c7",
   "metadata": {},
   "outputs": [],
   "source": [
    "# Variables\n",
    "singletons = [mgr_zdd.new_singleton() for _ in range(6)]\n",
    "o_a = singletons[0].var_boolean_function()\n",
    "s_a = singletons[1].var_boolean_function()\n",
    "o_b = singletons[2].var_boolean_function()\n",
    "s_b = singletons[3].var_boolean_function()\n",
    "o_c = singletons[4].var_boolean_function()\n",
    "s_c = singletons[5].var_boolean_function()\n",
    "\n",
    "# Formulas\n",
    "f1 = (o_a & ~s_a & o_b & s_b & ~o_c & s_c) | (o_a & ~s_a & o_b & s_b & ~o_c & ~s_c) #~ab\n",
    "f2 = o_a & ~s_a & o_b & ~s_b & o_c & s_c #~a~bc\n",
    "f3 = (o_a & s_a & ~o_b & s_b & o_c & ~s_c) | (o_a & s_a & ~o_b & ~s_b & o_c & ~s_c) #a~c\n",
    "\n",
    "f = f1 | f2 | f3\n",
    "\n",
    "mgr_zdd.visualize([(f, \"f\")], [(singletons[0], \"o_a\"), (singletons[1], \"s_a\"), (singletons[2], \"o_b\"), (singletons[3], \"s_b\"), (singletons[4], \"o_c\"), (singletons[5], \"s_c\")])"
   ]
  },
  {
   "cell_type": "markdown",
   "id": "303b37bc",
   "metadata": {},
   "source": [
    "BDD with polarity literals"
   ]
  },
  {
   "cell_type": "code",
   "execution_count": 3,
   "id": "ac8230ed",
   "metadata": {},
   "outputs": [],
   "source": [
    "# Variables\n",
    "a = mgr.new_var()\n",
    "na = mgr.new_var()\n",
    "b = mgr.new_var()\n",
    "nb = mgr.new_var()\n",
    "c = mgr.new_var()\n",
    "nc = mgr.new_var()\n",
    "\n",
    "# Formulas\n",
    "f1 = ~a & na & b & ~nb & ~c & ~nc #~ab\n",
    "f2 = ~a & na & ~b & nb & c & ~nc #~a~bc\n",
    "f3 = a & ~na & ~b & ~nb & ~c & nc #a~c\n",
    "\n",
    "f = f1 | f2 | f3\n",
    "\n",
    "mgr.visualize([(f, \"f\")], [(a, \"a\"), (na, \"~a\"), (b, \"b\"), (nb, \"~b\"), (c, \"c\"), (nc, \"~c\")])"
   ]
  },
  {
   "cell_type": "markdown",
   "id": "17c92b36",
   "metadata": {},
   "source": [
    "ZDD with polarity literals"
   ]
  },
  {
   "cell_type": "code",
   "execution_count": 4,
   "id": "fe58f838",
   "metadata": {},
   "outputs": [],
   "source": [
    "# Variables\n",
    "singletons = [mgr_zdd.new_singleton() for _ in range(6)]\n",
    "a = singletons[0].var_boolean_function()\n",
    "na = singletons[1].var_boolean_function()\n",
    "b = singletons[2].var_boolean_function()\n",
    "nb = singletons[3].var_boolean_function()\n",
    "c = singletons[4].var_boolean_function()\n",
    "nc = singletons[5].var_boolean_function()\n",
    "\n",
    "# Formulas\n",
    "f1 = ~a & na & b & ~nb & ~c & ~nc #~ab\n",
    "f2 = ~a & na & ~b & nb & c & ~nc #~a~bc\n",
    "f3 = a & ~na & ~b & ~nb & ~c & nc #a~c\n",
    "\n",
    "f = f1 | f2 | f3\n",
    "\n",
    "mgr_zdd.visualize([(f, \"f\")], [(singletons[0], \"a\"), (singletons[1], \"~a\"), (singletons[2], \"b\"), (singletons[3], \"~b\"), (singletons[4], \"c\"), (singletons[5], \"~c\")])"
   ]
  }
 ],
 "metadata": {
  "kernelspec": {
   "display_name": "Python 3",
   "language": "python",
   "name": "python3"
  },
  "language_info": {
   "codemirror_mode": {
    "name": "ipython",
    "version": 3
   },
   "file_extension": ".py",
   "mimetype": "text/x-python",
   "name": "python",
   "nbconvert_exporter": "python",
   "pygments_lexer": "ipython3",
   "version": "3.11.5"
  }
 },
 "nbformat": 4,
 "nbformat_minor": 5
}
