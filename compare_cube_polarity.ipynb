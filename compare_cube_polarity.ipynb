{
 "cells": [
  {
   "cell_type": "code",
   "execution_count": 1,
   "id": "eb04d5ca",
   "metadata": {},
   "outputs": [],
   "source": [
    "import oxidd"
   ]
  },
  {
   "cell_type": "code",
   "execution_count": 2,
   "id": "5e97efb7",
   "metadata": {},
   "outputs": [],
   "source": [
    "# Create BDD and ZDD manager\n",
    "mgr = oxidd.bdd.BDDManager(1024, 1024, 1)\n",
    "mgr_zdd = oxidd.zbdd.ZBDDManager(1024, 1024, 1)"
   ]
  },
  {
   "cell_type": "markdown",
   "id": "6d5dd1f3",
   "metadata": {},
   "source": [
    "BDD of $ab\\overline{c}$"
   ]
  },
  {
   "cell_type": "code",
   "execution_count": 3,
   "id": "cb1dcb8f",
   "metadata": {},
   "outputs": [],
   "source": [
    "# Variables\n",
    "a = mgr.new_var()\n",
    "na = mgr.new_var()\n",
    "b = mgr.new_var()\n",
    "nb = mgr.new_var()\n",
    "c = mgr.new_var()\n",
    "nc = mgr.new_var()\n",
    "\n",
    "# Formula\n",
    "f = a & ~na & b & ~nb & ~c & nc\n",
    "\n",
    "mgr.visualize([(f, \"f\")], [(a, \"a\"), (na, \"~a\"), (b, \"b\"), (nb, \"~b\"), (c, \"c\"), (nc, \"~c\")])"
   ]
  },
  {
   "cell_type": "markdown",
   "id": "adc1ba15",
   "metadata": {},
   "source": [
    "ZDD of $ab\\overline{c}$"
   ]
  },
  {
   "cell_type": "code",
   "execution_count": null,
   "id": "3ed57d44",
   "metadata": {},
   "outputs": [],
   "source": [
    "# Variables\n",
    "singletons = [mgr_zdd.new_singleton() for _ in range(6)]\n",
    "a = singletons[0].var_boolean_function()\n",
    "na = singletons[1].var_boolean_function()\n",
    "b = singletons[2].var_boolean_function()\n",
    "nb = singletons[3].var_boolean_function()\n",
    "c = singletons[4].var_boolean_function()\n",
    "nc = singletons[5].var_boolean_function()\n",
    "\n",
    "# Formula\n",
    "f = a & ~na & b & ~nb & ~c & nc\n",
    "\n",
    "mgr_zdd.visualize([(f, \"f\")], [(singletons[0], \"a\"), (singletons[1], \"~a\"), (singletons[2], \"b\"), (singletons[3], \"~b\"), (singletons[4], \"c\"), (singletons[5], \"~c\")])"
   ]
  },
  {
   "cell_type": "markdown",
   "id": "ea1c286a",
   "metadata": {},
   "source": [
    "BDD of $ab$"
   ]
  },
  {
   "cell_type": "code",
   "execution_count": 3,
   "id": "ed3b75c2",
   "metadata": {},
   "outputs": [],
   "source": [
    "# Variables\n",
    "a = mgr.new_var()\n",
    "na = mgr.new_var()\n",
    "b = mgr.new_var()\n",
    "nb = mgr.new_var()\n",
    "c = mgr.new_var()\n",
    "nc = mgr.new_var()\n",
    "\n",
    "# Formula\n",
    "f = a & ~na & b & ~nb & ~c & ~nc\n",
    "\n",
    "mgr.visualize([(f, \"f\")], [(a, \"a\"), (na, \"~a\"), (b, \"b\"), (nb, \"~b\"), (c, \"c\"), (nc, \"~c\")])"
   ]
  },
  {
   "cell_type": "markdown",
   "id": "bea7e9ae",
   "metadata": {},
   "source": [
    "ZDD of $ab$"
   ]
  },
  {
   "cell_type": "code",
   "execution_count": 4,
   "id": "c80d6309",
   "metadata": {},
   "outputs": [],
   "source": [
    "# Variables\n",
    "singletons = [mgr_zdd.new_singleton() for _ in range(6)]\n",
    "a = singletons[0].var_boolean_function()\n",
    "na = singletons[1].var_boolean_function()\n",
    "b = singletons[2].var_boolean_function()\n",
    "nb = singletons[3].var_boolean_function()\n",
    "c = singletons[4].var_boolean_function()\n",
    "nc = singletons[5].var_boolean_function()\n",
    "\n",
    "# Formula\n",
    "f = a & ~na & b & ~nb & ~c & ~nc\n",
    "\n",
    "mgr_zdd.visualize([(f, \"f\")], [(singletons[0], \"a\"), (singletons[1], \"~a\"), (singletons[2], \"b\"), (singletons[3], \"~b\"), (singletons[4], \"c\"), (singletons[5], \"~c\")])"
   ]
  }
 ],
 "metadata": {
  "kernelspec": {
   "display_name": "Python 3",
   "language": "python",
   "name": "python3"
  },
  "language_info": {
   "codemirror_mode": {
    "name": "ipython",
    "version": 3
   },
   "file_extension": ".py",
   "mimetype": "text/x-python",
   "name": "python",
   "nbconvert_exporter": "python",
   "pygments_lexer": "ipython3",
   "version": "3.11.5"
  }
 },
 "nbformat": 4,
 "nbformat_minor": 5
}
